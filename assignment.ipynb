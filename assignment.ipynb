{
 "cells": [
  {
   "metadata": {
    "ExecuteTime": {
     "end_time": "2024-10-09T20:13:49.531695Z",
     "start_time": "2024-10-09T20:13:49.518213Z"
    }
   },
   "cell_type": "code",
   "source": [
    "import pandas as pd\n",
    "import numpy as np\n",
    "from sklearn.model_selection import train_test_split\n",
    "from sklearn.pipeline import Pipeline\n",
    "from sklearn.impute import SimpleImputer\n",
    "from sklearn.preprocessing import StandardScaler, OneHotEncoder\n",
    "from sklearn.compose import ColumnTransformer\n",
    "from sklearn.linear_model import LinearRegression\n",
    "from sklearn.metrics import mean_squared_error, r2_score\n",
    "from sklearn.model_selection import cross_val_score"
   ],
   "id": "fbc121e30a2defb3",
   "outputs": [],
   "execution_count": 21
  },
  {
   "metadata": {
    "ExecuteTime": {
     "end_time": "2024-10-09T20:13:50.346370Z",
     "start_time": "2024-10-09T20:13:49.544003Z"
    }
   },
   "cell_type": "code",
   "source": [
    "url = \"https://archive.ics.uci.edu/ml/machine-learning-databases/auto-mpg/auto-mpg.data\"\n",
    "column_names = ['MPG', 'Cylinders', 'Displacement', 'Horsepower', 'Weight', 'Acceleration', 'Model Year', 'Origin']\n",
    "df = pd.read_csv(url, delim_whitespace=True, names=column_names, na_values='?')\n",
    "\n",
    "# Step 3: Describe dataset and variables\n",
    "print(df.head())\n",
    "\n",
    "# Step 4: Define dependent and independent variables\n",
    "X = df.drop('MPG', axis=1)\n",
    "y = df['MPG']\n",
    "\n",
    "# Step 5: Handle missing data and perform feature engineering\n",
    "numeric_features = ['Cylinders', 'Displacement', 'Horsepower', 'Weight', 'Acceleration', 'Model Year']\n",
    "categorical_features = ['Origin']\n",
    "\n",
    "# Define transformers for numerical and categorical data\n",
    "numeric_transformer = Pipeline(steps=[\n",
    "    ('imputer', SimpleImputer(strategy='mean')),  \n",
    "    ('scaler', StandardScaler())                  \n",
    "])\n",
    "\n",
    "categorical_transformer = Pipeline(steps=[\n",
    "    ('onehot', OneHotEncoder(handle_unknown='ignore'))  \n",
    "])\n",
    "\n",
    "# Preprocessing pipeline for both numerical and categorical data\n",
    "preprocessor = ColumnTransformer(\n",
    "    transformers=[\n",
    "        ('num', numeric_transformer, numeric_features),\n",
    "        ('cat', categorical_transformer, categorical_features)\n",
    "    ])\n",
    "\n",
    "# Step 6: Split the dataset into training and testing sets\n",
    "X_train, X_test, y_train, y_test = train_test_split(X, y, test_size=0.2, random_state=42)\n",
    "\n",
    "# Step 7: Create a regression pipeline with preprocessor and Linear Regression model\n",
    "model_pipeline = Pipeline(steps=[\n",
    "    ('preprocessor', preprocessor),\n",
    "    ('regressor', LinearRegression())\n",
    "])\n",
    "\n",
    "# Step 8: Fit the pipeline on the training dataset\n",
    "model_pipeline.fit(X_train, y_train)\n",
    "\n",
    "# Step 9: Make predictions on the test set\n",
    "y_pred = model_pipeline.predict(X_test)\n",
    "\n",
    "# Step 10: Evaluate the model's performance using RMSE and R² scores\n",
    "rmse = np.sqrt(mean_squared_error(y_test, y_pred))\n",
    "r2 = r2_score(y_test, y_pred)\n",
    "\n",
    "# Cross-validation to evaluate performance more robustly\n",
    "cv_rmse = cross_val_score(model_pipeline, X, y, cv=5, scoring='neg_mean_squared_error')\n",
    "cv_r2 = cross_val_score(model_pipeline, X, y, cv=5, scoring='r2')\n",
    "\n",
    "# Display the results\n",
    "print(f\"Root Mean Squared Error (RMSE): {rmse:.2f}\")\n",
    "print(f\"R-Squared (R²) Value: {r2:.2f}\")\n",
    "print(f\"Cross-Validated RMSE: {(-cv_rmse.mean())**0.5:.2f}\")\n",
    "print(f\"Cross-Validated R² Value: {cv_r2.mean():.2f}\")"
   ],
   "id": "4702dbba198e5836",
   "outputs": [
    {
     "name": "stderr",
     "output_type": "stream",
     "text": [
      "/var/folders/lg/zjtzqdq15v77l_2rk_z7jhwh0000gn/T/ipykernel_28458/322798700.py:3: FutureWarning: The 'delim_whitespace' keyword in pd.read_csv is deprecated and will be removed in a future version. Use ``sep='\\s+'`` instead\n",
      "  df = pd.read_csv(url, delim_whitespace=True, names=column_names, na_values='?')\n"
     ]
    },
    {
     "name": "stdout",
     "output_type": "stream",
     "text": [
      "      MPG  Cylinders  Displacement  Horsepower  Weight  Acceleration  \\\n",
      "18.0    8      307.0         130.0      3504.0    12.0            70   \n",
      "15.0    8      350.0         165.0      3693.0    11.5            70   \n",
      "18.0    8      318.0         150.0      3436.0    11.0            70   \n",
      "16.0    8      304.0         150.0      3433.0    12.0            70   \n",
      "17.0    8      302.0         140.0      3449.0    10.5            70   \n",
      "\n",
      "      Model Year                     Origin  \n",
      "18.0           1  chevrolet chevelle malibu  \n",
      "15.0           1          buick skylark 320  \n",
      "18.0           1         plymouth satellite  \n",
      "16.0           1              amc rebel sst  \n",
      "17.0           1                ford torino  \n",
      "Root Mean Squared Error (RMSE): 0.71\n",
      "R-Squared (R²) Value: 0.84\n",
      "Cross-Validated RMSE: 0.83\n",
      "Cross-Validated R² Value: 0.51\n"
     ]
    }
   ],
   "execution_count": 22
  }
 ],
 "metadata": {
  "kernelspec": {
   "display_name": "Python 3",
   "language": "python",
   "name": "python3"
  },
  "language_info": {
   "codemirror_mode": {
    "name": "ipython",
    "version": 2
   },
   "file_extension": ".py",
   "mimetype": "text/x-python",
   "name": "python",
   "nbconvert_exporter": "python",
   "pygments_lexer": "ipython2",
   "version": "2.7.6"
  }
 },
 "nbformat": 4,
 "nbformat_minor": 5
}
